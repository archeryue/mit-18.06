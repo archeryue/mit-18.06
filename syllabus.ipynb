{
 "cells": [
  {
   "cell_type": "markdown",
   "metadata": {},
   "source": [
    "# Syllabus\n",
    "\n",
    "## Prerequisites\n",
    "Multivariable Calculus (18.02)\n",
    "\n",
    "## Goals\n",
    "\n",
    "1. Solving Ax = b for square systems by elimination (pivots, multipliers, back substitution, invertibility of A, factorization into A = LU)\n",
    "1. Complete solution to Ax = b (column space containing b, rank of A, nullspace of A and special solutions to Ax = 0 from row reduced R)\n",
    "1. Basis and dimension (bases for the four fundamental subspaces)\n",
    "1. Least squares solutions (closest line by understanding projections)\n",
    "1. Orthogonalization by Gram-Schmidt (factorization into A = QR)\n",
    "1. Properties of determinants (leading to the cofactor formula and the sum over all n! permutations, applications to inv(A) and volume)\n",
    "1. Eigenvalues and eigenvectors (diagonalizing A, computing powers A^k and matrix exponentials to solve difference and differential equations)\n",
    "1. Symmetric matrices and positive definite matrices (real eigenvalues and orthogonal eigenvectors, tests for x'Ax > 0, applications)\n",
    "1. Linear transformations and change of basis (connected to the Singular Value Decomposition - orthonormal bases that diagonalize A)\n",
    "1. Linear algebra in engineering (graphs and networks, Markov matrices, Fourier matrix, Fast Fourier Transform, linear programming)"
   ]
  }
 ],
 "metadata": {
  "kernelspec": {
   "display_name": "Python 2",
   "language": "python",
   "name": "python2"
  },
  "language_info": {
   "codemirror_mode": {
    "name": "ipython",
    "version": 2
   },
   "file_extension": ".py",
   "mimetype": "text/x-python",
   "name": "python",
   "nbconvert_exporter": "python",
   "pygments_lexer": "ipython2",
   "version": "2.7.10"
  }
 },
 "nbformat": 4,
 "nbformat_minor": 2
}
