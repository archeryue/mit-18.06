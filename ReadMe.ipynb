{
 "cells": [
  {
   "cell_type": "markdown",
   "metadata": {},
   "source": [
    "# MIT 18.06\n",
    "\n",
    "---\n",
    "\n",
    "## Syllabus\n",
    "- [Syllabus](syllabus.ipynb)\n",
    "\n",
    "---\n",
    "\n",
    "## Contents\n",
    "\n",
    "- Lecture 01 [The Geometry of Linear Equations](lecture01.ipynb)\n",
    "- Lecture 02 [Elimination with Matrices](lecture02.ipynb)\n",
    "- Lecture 03 [Matrix Operations and Inverses](lecture03.ipynb)\n",
    "- Lecture 04 [LU Factorization](lecture04.ipynb)\n",
    "- Lecture 05 [Transposes and Permutations, Spaces R^n](lecture05.ipynb)\n",
    "- Lecture 06 [Vector Spaces and Subspaces](lecture06.ipynb)\n",
    "- Lecture 07 [Sovling Ax=0: Pivot Variables, Special Solutions](lecture07.ipynb)\n",
    "- Lecture 08 [Sovling Ax=b: Row Reduced Form R](lecture08.ipynb)\n",
    "- Lecture 09 [Linear Independence, Basis and Demension](lecture09.ipynb)\n",
    "- Lecture 10 [Four Fundamental Subspaces](lecture10.ipynb)\n",
    "- Lecture 11 [Matrix Spaces, Rank 1, Small World Graphs](lecture11.ipynb)\n",
    "- Lecture 12 [Graphs, Networks, Incidence Matrices](lecture12.ipynb)\n",
    "- Lecture 13 [Quiz 1 Review](lecture13.ipynb)\n",
    "- Lecture 14 [Orthogonal Vectors and Subspaces](lecture14.ipynb)\n",
    "- Lecture 15 [Projections onto Subspaces](lecture15.ipynb)\n",
    "- Lecture 16 [Projection Matrices and Least Squares](lecture16.ipynb)\n",
    "- Lecture 17 [Orthogonal Matrices and Gram-Schmidt](lecture17.ipynb)\n",
    "- Lecture 18 [Properties of Determinants](lecture18.ipynb)\n",
    "- Lecture 19 [Determinants Formulas and Cofactors](lecture19.ipynb)\n",
    "- Lecture 20 [Cramer's Rule Inverse Matrix and Volume](lecture20.ipynb)\n",
    "- Lecture 21 [Eigenvalues and Eigenvectors](lecture21.ipynb)\n",
    "- Lecture 22 [Diagonalization and Power of A](lecture22.ipynb)\n",
    "- Lecture 23 [Differential Equations and exp(At)](lecture23.ipynb)\n",
    "- Lecture 24 [Markov Matrices and Fourier Series](lecture24.ipynb)\n",
    "- Lecture 25 [Quiz 2 Review](lecture25.ipynb)\n",
    "- Lecture 26 [Symmetric Matrices and Positive Definiteness](lecture26.ipynb)\n",
    "- Lecture 27 [Complex Matrices and Fast Fourier Transform](lecture27.ipynb)\n",
    "- Lecture 28 [Positive Definite Matrices and Minima](lecture28.ipynb)\n",
    "- Lecture 29 [Similar Matrices and Jordan Form](lecture29.ipynb)\n",
    "- Lecture 30 [Singular Value Decomposition](lecture30.ipynb)\n",
    "- Lecture 31 [Linear Transformations and Their Matrices](lecture31.ipynb)\n",
    "- Lecture 32 [Change of Basis; Image Compression](lecture32.ipynb)\n",
    "- Lecture 33 [Quiz 3 Review](lecture33.ipynb)\n",
    "- Lecture 34 [Left and Right Inverses, Pseudoinverse](lecture34.ipynb)\n",
    "- Lecture 35 [Final Course Review](lecture35.ipynb)"
   ]
  }
 ],
 "metadata": {
  "kernelspec": {
   "display_name": "Python 2",
   "language": "python",
   "name": "python2"
  },
  "language_info": {
   "codemirror_mode": {
    "name": "ipython",
    "version": 2
   },
   "file_extension": ".py",
   "mimetype": "text/x-python",
   "name": "python",
   "nbconvert_exporter": "python",
   "pygments_lexer": "ipython2",
   "version": "2.7.10"
  }
 },
 "nbformat": 4,
 "nbformat_minor": 1
}
